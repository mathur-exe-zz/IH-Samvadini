{
  "nbformat": 4,
  "nbformat_minor": 0,
  "metadata": {
    "colab": {
      "name": "Copy of cqda.ipynb",
      "provenance": []
    },
    "kernelspec": {
      "name": "python3",
      "display_name": "Python 3"
    },
    "language_info": {
      "name": "python"
    }
  },
  "cells": [
    {
      "cell_type": "code",
      "execution_count": null,
      "metadata": {
        "colab": {
          "base_uri": "https://localhost:8080/"
        },
        "id": "s5mmwOS6knle",
        "outputId": "f00fb647-07e2-4619-f004-e899e9a88e43"
      },
      "outputs": [
        {
          "output_type": "stream",
          "name": "stdout",
          "text": [
            "Requirement already satisfied: pip in /usr/local/lib/python3.7/dist-packages (21.1.3)\n",
            "Collecting pip\n",
            "  Downloading pip-22.0.4-py3-none-any.whl (2.1 MB)\n",
            "\u001b[K     |████████████████████████████████| 2.1 MB 4.9 MB/s \n",
            "\u001b[?25hInstalling collected packages: pip\n",
            "  Attempting uninstall: pip\n",
            "    Found existing installation: pip 21.1.3\n",
            "    Uninstalling pip-21.1.3:\n",
            "      Successfully uninstalled pip-21.1.3\n",
            "Successfully installed pip-22.0.4\n"
          ]
        }
      ],
      "source": [
        "!pip install --upgrade pip"
      ]
    },
    {
      "cell_type": "code",
      "source": [
        "!nvidia-smi"
      ],
      "metadata": {
        "id": "KQkmeskck9dr",
        "colab": {
          "base_uri": "https://localhost:8080/"
        },
        "outputId": "2ba8a1ab-ab17-44f5-d685-3c7e787f011b"
      },
      "execution_count": null,
      "outputs": [
        {
          "output_type": "stream",
          "name": "stdout",
          "text": [
            "NVIDIA-SMI has failed because it couldn't communicate with the NVIDIA driver. Make sure that the latest NVIDIA driver is installed and running.\n",
            "\n"
          ]
        }
      ]
    },
    {
      "cell_type": "code",
      "source": [
        "!pip install git+https://github.com/cdqa-suite/cdQA.git"
      ],
      "metadata": {
        "id": "th16u2GwlJMU",
        "colab": {
          "base_uri": "https://localhost:8080/"
        },
        "outputId": "2eebf710-043f-4153-f99b-de2fc92f132a"
      },
      "execution_count": null,
      "outputs": [
        {
          "output_type": "stream",
          "name": "stdout",
          "text": [
            "Collecting git+https://github.com/cdqa-suite/cdQA.git\n",
            "  Cloning https://github.com/cdqa-suite/cdQA.git to /tmp/pip-req-build-b6bdbod6\n",
            "  Running command git clone --filter=blob:none --quiet https://github.com/cdqa-suite/cdQA.git /tmp/pip-req-build-b6bdbod6\n",
            "  Resolved https://github.com/cdqa-suite/cdQA.git to commit 40387925db8f0da44a5bd2fe549cde675a92d479\n",
            "  Preparing metadata (setup.py) ... \u001b[?25l\u001b[?25hdone\n",
            "Requirement already satisfied: Flask==1.1.1 in /usr/local/lib/python3.7/dist-packages (from cdqa==1.3.9) (1.1.1)\n",
            "Requirement already satisfied: flask_cors==3.0.8 in /usr/local/lib/python3.7/dist-packages (from cdqa==1.3.9) (3.0.8)\n",
            "Requirement already satisfied: joblib==0.13.2 in /usr/local/lib/python3.7/dist-packages (from cdqa==1.3.9) (0.13.2)\n",
            "Requirement already satisfied: pandas==0.25.0 in /usr/local/lib/python3.7/dist-packages (from cdqa==1.3.9) (0.25.0)\n",
            "Requirement already satisfied: prettytable==0.7.2 in /usr/local/lib/python3.7/dist-packages (from cdqa==1.3.9) (0.7.2)\n",
            "Requirement already satisfied: transformers==2.1.1 in /usr/local/lib/python3.7/dist-packages (from cdqa==1.3.9) (2.1.1)\n",
            "Requirement already satisfied: scikit_learn==0.21.2 in /usr/local/lib/python3.7/dist-packages (from cdqa==1.3.9) (0.21.2)\n",
            "Requirement already satisfied: tika==1.19 in /usr/local/lib/python3.7/dist-packages (from cdqa==1.3.9) (1.19)\n",
            "Requirement already satisfied: torch==1.2.0 in /usr/local/lib/python3.7/dist-packages (from cdqa==1.3.9) (1.2.0)\n",
            "Requirement already satisfied: markdown==3.1.1 in /usr/local/lib/python3.7/dist-packages (from cdqa==1.3.9) (3.1.1)\n",
            "Requirement already satisfied: tqdm==4.32.2 in /usr/local/lib/python3.7/dist-packages (from cdqa==1.3.9) (4.32.2)\n",
            "Requirement already satisfied: wget==3.2 in /usr/local/lib/python3.7/dist-packages (from cdqa==1.3.9) (3.2)\n",
            "Requirement already satisfied: itsdangerous>=0.24 in /usr/local/lib/python3.7/dist-packages (from Flask==1.1.1->cdqa==1.3.9) (1.1.0)\n",
            "Requirement already satisfied: click>=5.1 in /usr/local/lib/python3.7/dist-packages (from Flask==1.1.1->cdqa==1.3.9) (7.1.2)\n",
            "Requirement already satisfied: Jinja2>=2.10.1 in /usr/local/lib/python3.7/dist-packages (from Flask==1.1.1->cdqa==1.3.9) (2.11.3)\n",
            "Requirement already satisfied: Werkzeug>=0.15 in /usr/local/lib/python3.7/dist-packages (from Flask==1.1.1->cdqa==1.3.9) (1.0.1)\n",
            "Requirement already satisfied: Six in /usr/local/lib/python3.7/dist-packages (from flask_cors==3.0.8->cdqa==1.3.9) (1.15.0)\n",
            "Requirement already satisfied: setuptools>=36 in /usr/local/lib/python3.7/dist-packages (from markdown==3.1.1->cdqa==1.3.9) (57.4.0)\n",
            "Requirement already satisfied: python-dateutil>=2.6.1 in /usr/local/lib/python3.7/dist-packages (from pandas==0.25.0->cdqa==1.3.9) (2.8.2)\n",
            "Requirement already satisfied: numpy>=1.13.3 in /usr/local/lib/python3.7/dist-packages (from pandas==0.25.0->cdqa==1.3.9) (1.21.6)\n",
            "Requirement already satisfied: pytz>=2017.2 in /usr/local/lib/python3.7/dist-packages (from pandas==0.25.0->cdqa==1.3.9) (2022.1)\n",
            "Requirement already satisfied: scipy>=0.17.0 in /usr/local/lib/python3.7/dist-packages (from scikit_learn==0.21.2->cdqa==1.3.9) (1.4.1)\n",
            "Requirement already satisfied: requests in /usr/local/lib/python3.7/dist-packages (from tika==1.19->cdqa==1.3.9) (2.23.0)\n",
            "Requirement already satisfied: boto3 in /usr/local/lib/python3.7/dist-packages (from transformers==2.1.1->cdqa==1.3.9) (1.22.1)\n",
            "Requirement already satisfied: regex in /usr/local/lib/python3.7/dist-packages (from transformers==2.1.1->cdqa==1.3.9) (2019.12.20)\n",
            "Requirement already satisfied: sentencepiece in /usr/local/lib/python3.7/dist-packages (from transformers==2.1.1->cdqa==1.3.9) (0.1.96)\n",
            "Requirement already satisfied: sacremoses in /usr/local/lib/python3.7/dist-packages (from transformers==2.1.1->cdqa==1.3.9) (0.0.49)\n",
            "Requirement already satisfied: MarkupSafe>=0.23 in /usr/local/lib/python3.7/dist-packages (from Jinja2>=2.10.1->Flask==1.1.1->cdqa==1.3.9) (2.0.1)\n",
            "Requirement already satisfied: s3transfer<0.6.0,>=0.5.0 in /usr/local/lib/python3.7/dist-packages (from boto3->transformers==2.1.1->cdqa==1.3.9) (0.5.2)\n",
            "Requirement already satisfied: jmespath<2.0.0,>=0.7.1 in /usr/local/lib/python3.7/dist-packages (from boto3->transformers==2.1.1->cdqa==1.3.9) (1.0.0)\n",
            "Requirement already satisfied: botocore<1.26.0,>=1.25.1 in /usr/local/lib/python3.7/dist-packages (from boto3->transformers==2.1.1->cdqa==1.3.9) (1.25.1)\n",
            "Requirement already satisfied: idna<3,>=2.5 in /usr/local/lib/python3.7/dist-packages (from requests->tika==1.19->cdqa==1.3.9) (2.10)\n",
            "Requirement already satisfied: chardet<4,>=3.0.2 in /usr/local/lib/python3.7/dist-packages (from requests->tika==1.19->cdqa==1.3.9) (3.0.4)\n",
            "Requirement already satisfied: urllib3!=1.25.0,!=1.25.1,<1.26,>=1.21.1 in /usr/local/lib/python3.7/dist-packages (from requests->tika==1.19->cdqa==1.3.9) (1.25.11)\n",
            "Requirement already satisfied: certifi>=2017.4.17 in /usr/local/lib/python3.7/dist-packages (from requests->tika==1.19->cdqa==1.3.9) (2021.10.8)\n",
            "\u001b[33mWARNING: Running pip as the 'root' user can result in broken permissions and conflicting behaviour with the system package manager. It is recommended to use a virtual environment instead: https://pip.pypa.io/warnings/venv\u001b[0m\u001b[33m\n",
            "\u001b[0m"
          ]
        }
      ]
    },
    {
      "cell_type": "code",
      "source": [
        "!pip install --upgrade numpy==1.19.5"
      ],
      "metadata": {
        "id": "eR-Td2HGrlTA",
        "colab": {
          "base_uri": "https://localhost:8080/"
        },
        "outputId": "139dbb9e-a1ca-491f-f641-ba993b12ed5e"
      },
      "execution_count": null,
      "outputs": [
        {
          "output_type": "stream",
          "name": "stdout",
          "text": [
            "Requirement already satisfied: numpy==1.19.5 in /usr/local/lib/python3.7/dist-packages (1.19.5)\n",
            "\u001b[33mWARNING: Running pip as the 'root' user can result in broken permissions and conflicting behaviour with the system package manager. It is recommended to use a virtual environment instead: https://pip.pypa.io/warnings/venv\u001b[0m\u001b[33m\n",
            "\u001b[0m"
          ]
        }
      ]
    },
    {
      "cell_type": "code",
      "source": [
        "import os\n",
        "import pandas as pd\n",
        "from ast import literal_eval\n",
        "\n",
        "from cdqa.utils.converters import pdf_converter\n",
        "from cdqa.pipeline import QAPipeline\n",
        "from cdqa.utils.download import download_model"
      ],
      "metadata": {
        "id": "R1eKVLEUmFSe",
        "colab": {
          "base_uri": "https://localhost:8080/"
        },
        "outputId": "a46b7408-ca91-43b9-908c-140207f07b8b"
      },
      "execution_count": null,
      "outputs": [
        {
          "output_type": "stream",
          "name": "stderr",
          "text": [
            "/usr/local/lib/python3.7/dist-packages/tqdm/autonotebook/__init__.py:18: TqdmExperimentalWarning: Using `tqdm.autonotebook.tqdm` in notebook mode. Use `tqdm.tqdm` instead to force console mode (e.g. in jupyter console)\n",
            "  \" (e.g. in jupyter console)\", TqdmExperimentalWarning)\n"
          ]
        }
      ]
    },
    {
      "cell_type": "code",
      "source": [
        "download_model(model='bert-squad_1.1', dir='./models')"
      ],
      "metadata": {
        "id": "KtXJoqR5m3rr",
        "colab": {
          "base_uri": "https://localhost:8080/"
        },
        "outputId": "55c668ea-3183-4705-a309-d0c3c2133515"
      },
      "execution_count": null,
      "outputs": [
        {
          "output_type": "stream",
          "name": "stdout",
          "text": [
            "\n",
            "Downloading trained model...\n"
          ]
        }
      ]
    },
    {
      "cell_type": "code",
      "source": [
        "from google.colab import drive\n",
        "drive.mount('/drive')"
      ],
      "metadata": {
        "id": "Kr1oMsl1nI1Z",
        "colab": {
          "base_uri": "https://localhost:8080/"
        },
        "outputId": "493dd8a3-20e9-4729-f1a9-1f51c97eaf06"
      },
      "execution_count": null,
      "outputs": [
        {
          "output_type": "stream",
          "name": "stdout",
          "text": [
            "Mounted at /drive\n"
          ]
        }
      ]
    },
    {
      "cell_type": "code",
      "source": [
        "!ls /drive/My\\ Drive/samvadhini"
      ],
      "metadata": {
        "id": "Xs4PwQy8nb9I",
        "colab": {
          "base_uri": "https://localhost:8080/"
        },
        "outputId": "d7d33e9f-cdb3-4355-c65c-e6bfbf9e9c38"
      },
      "execution_count": null,
      "outputs": [
        {
          "output_type": "stream",
          "name": "stdout",
          "text": [
            "test.txt.txt  updated.pdf\n"
          ]
        }
      ]
    },
    {
      "cell_type": "code",
      "source": [
        "!less ./models/bert_qa.joblib"
      ],
      "metadata": {
        "id": "xNdNHnvwdzrl"
      },
      "execution_count": null,
      "outputs": []
    },
    {
      "cell_type": "code",
      "source": [
        "import sys\n",
        "sys.path.append('/drive/My Drive/bert')"
      ],
      "metadata": {
        "id": "3RiQfbWhpCih"
      },
      "execution_count": null,
      "outputs": []
    },
    {
      "cell_type": "code",
      "source": [
        "df = pdf_converter(directory_path = '/drive/My Drive/samvadhini/')\n",
        "df.head()"
      ],
      "metadata": {
        "id": "gSFyMxfdnppG",
        "colab": {
          "base_uri": "https://localhost:8080/",
          "height": 1000
        },
        "outputId": "3ebdacc5-ce29-440d-95cd-7d5315fadfdf"
      },
      "execution_count": null,
      "outputs": [
        {
          "output_type": "execute_result",
          "data": {
            "text/plain": [
              "     title  \\\n",
              "0  updated   \n",
              "\n",
              "                                                                                                                                                                                                                                                                                                                                                                                                                                                                                                                                                                                                                                                                                                                                                                                                                                                                                                                                                                                                                                                                                                                                                                                                                                                                                                                                                                                                                                                                                                                                                                                                                                                                                                                                                                                                                                                                                                                                                                                                                                                                                                                                                                                                                                                                                                                                                                                                                                                                                                                                                                                                                                                                                                                                                                                                                                                                                                                                                                                                                                                                                                                                                                                                                                                                                                                                                                                                                                                                                                                                                                                                                                                                                                                                                                                                                                                                                                                                                                                                                                                                                                                                                                                                                                                                                                                                                                                                                                                                                                                                                                                                                                                                                                                                                                                                                                                                                                                                                                                                                                                                                                                                                                                                                                                                                                                                                                                                                                                                                                                                                                                                                                                                                                                                                                                                                                                                                                                                                                                                                                                                                                                                                                                                                                                                                                                                                                                                                                                                                                                                                                                                                                                                                                                                                                                                                                                                                                                                                                                                                                                                                                                                                                                                                                                                                                                                                                                                                                                                                                                                                                                                                                                                                                                                                                                                                                                                                                                                                                                                                                                                                                                                                                                                                                                                                                                                                                                                                                                                                                                                                                                                                                                                                                                                                                                                                                                                                                                                                                                                                                                                                                                                                                                                                                                                                                                                                                                                                                                                                                                                                                                                                                                                                                                                                                                                                                                                                                                                                                                                                                                                                                                                                                                                                                                                                                                                                                                                                                                                                                                                                                                                                                                                                                                                                                                                                                                                                                                                                                                                                                                                                                                                                                                                                                                                                                                                                                                                                                                                                                                                                                                                                                                                                                                                                                                                                                                                                                                                                                                                                                                                                                                                                                                                                                                                                                                                                                                                                                                                                                                                                                                                                                                                                                                                                                                                                                                                                                                                                                                                                                                                                                                                                                                                                                                                                                                                                                                                                                                                                                                                                                                                                                                                                                                                                                                                                                                                                                                                                                                                                                                                                                                                                                                                                                                                                                                                                                                                        paragraphs  \n",
              "0  [CGPA is seen on the grade card. The CGPA count can be verified by referring to the passing criteria mentioned in Exam Ordinance 2020 (https://mitwpu.edu.in/examination/images/documents/Examination_Ordinances_2020.pdf) , GPA and CGPA are not mentioned on backlog grade cards. GPA, CGPA will be highlighted on regular trimester grade card only. , CGPA.As a result, it is affecting my CGPA of next trimesters also. How do I get it corrected? , Grade card shows first attempt GPA and CGPA only. Hence, even if you have cleared backlog, improved CGPA for that trimester will not be seen on grade card. , Grade cards should be collected from the student section of your Department. If your grade card is not available at the student section then you must fill the student assistance form (https://mitwpu.edu.in/images/documents/Student-Assistant-Form.pdf) at Department of , Examination and get the remark from the student section on it and submit to Examination , Department. , Name correction on grade cards/PDC needs to be done in ERP at the office of student section of your Department. Kindly contact the office of student section for the making the required corrections in ERP. Moreover, student must check his/her personal details from time to time in their ERP login. , How can I get a new copy of corrected grade cards? , Once the required corrections are done in ERP, you can apply for corrected grade cards by filling and sending the student assistance form (https://mitwpu.edu.in/images/documents/Student-Assistant-Form.pdf) having verification remark from student section along with scan copies of grade cards and screenshot of grade card in ERP that reflects the required corrections to exam.helpdesk@mitwpu.edu.in. In the assistant form, clearly mention details of grade cards in which corrections are required (i.e. Trimester no., Regular/Backlog, Month & Year). Submit the original grade cards at , Department for Examination. , From where should I collect the corrected grade cards/PDC? , You have to collect the corrected grade cards/PDC from Department of Examination. , Processing of correction on grade cards will take minimum 4 working days after you submit all the required documents at the Department of Examination.  , Yes, it is necessary to fill exam form for every end term exam. , Yes, it is necessary to fill exam form for internal backlog also. , You are required to submit an exam form. There is no connection between outstanding fees and an exam form. , After you fill and submit the exam form, you should download the PDF of your application which shows you the details of subjects you applied for, as well as, whether you have to appear for internal or external or both for the mentioned subjects. , It is mandatory to fill the exam form within the stipulated time only. Under any circumstances, you will not be allowed to fill exam form after the date for exam form filling is over. , No, Regular and Backlog fees have to be paid together. , Select Exam, Course Year and Click on Show. Submit the application and take printout of your exam application form. Submit the print along with complete exam fees (regular + backlog as applicable) to student section. Save the receipt. , Probable reasons 1) Student has not filled exam form. 2) Subject Mapping might not be done from , Institute. 3) Any other technical error. Contact Department of Examination for clarification. , Fill the student assistance form and pay fine at Exam Department. , Paste I-Card size photograph on hall ticket and get it duly attested from Department of , Examination. , Contact Examination Department for clarification. , Result related queries , This message occurs because your result is withheld due to non-submission of eligibility documents, outstanding fees, etc. You need to contact student section for further clarification. , Your result may be withheld for any administrative issue. Contact student section for clarification. , Your result will be seen in ERP only after a release order is received from the student section. , Mail your query to exam.helpdesk@mitwpu.edu.in and attach screenshot of result. , There is no rechecking/revaluation for online exams. , Mail your query details to exam.helpdesk@mitwpu.edu.in for knowing the external marks in the mentioned subject. For your internal marks, contact subject teacher. , Rechecking and Revaluation (Applicable for Offline End-Term Exams) , Pay the required fee at Department of Examination and fill student assistance form. , Photocopy will be made available within two days when revaluation dates are declared. , In student module, Click on University examination. Select application form and enter necessary information. Take printout of your application form and payment done and submit it to student section. , In student module, select University Examination, click on application, Mention exam type and exam. , Fees to be paid online in ERP. , Revaluation result will be declared after 12 Days from application of revaluation. , The amount must have been deducted against any other outstanding fee. Contact student section for clarification. , Either the student was absent for that particular subject or result is withheld from student section, hence subject shall not be seen in the revaluation list. , Contact student section for clarification , You don’t have to apply separately for a Provisional Degree Certificate. It will be issued after you have successfully completed your course. , From where and when should I collect the Provisional Degree Certificate? , Provisional Degree Certificate will be given from the student section after 15 days from date of declaration of your final trimester result. , Grade card is issued only once. In case, you have lost your grade card, you can apply for a duplicate grade card only. , How do I apply for a duplicate grade card? , You have to fill and submit application form for issuing of duplicate grade card which is available on the website (https://mitwpu.edu.in/images/documents/Application-for-Issue-of- , Duplicate-Grade-Card.pdf) along with the necessary documents mentioned in the form, in original, as well as the receipt of payment. , FIR copy, Affidavit on Rs.100/- stamp paper giving details and receipt of fee for duplicate grade card. , Fee of Rs.500/- + Rs. 100/- per trimester grade card. , You must pay online. Payment details are mentioned on website (https://mitwpu.edu.in/examination). Send the screenshot of payment to exam.helpdesk@mitwpu.edu.in. , You will have to collect it from Department of Examination after 15 days of application. , Once you have obtained a duplicate in place of a lost document, always use the duplicate document. If the original document is found, return it to WPU. Do not use the found original document after it has been replaced by a duplicate because of the following reasons: , 1) When a document is replaced by a duplicate, the original is marked as lost in the WPU database. The data of the duplicate document is entered into the database. 2) If a document that is marked as lost is sent to WPU for verification, it will be reported as lost and therefore not genuine. , Yes, you can apply for a consolidated grade card. , A consolidated grade card will show consolidated result of a trimester (Regular & cleared backlog together). It shows revised GPA for that trimester. However, note that CGPA is not mentioned. , Consolidated grade card shows revised result of only one trimester with revised GPA whereas a transcript is a document that includes updated results of all trimesters with revised , GPA and CGPA trimester wise. , You have to fill and submit application form for issuing of consolidated grade card which is available on the website (https://mitwpu.edu.in/images/documents/Application-for- , Issue-of-Consolidated-Grade-Card.pdf) along with the necessary documents mentioned in the form and screenshot of payment to exam.helpdesk@mitwpu.edu.in , Application form for consolidated grade card, scan copy of regular and backlog grade cards of trimester for which consolidated grade card is required. , Processing fee for one consolidated grade card is Rs.200/- , You must pay online. Payment details are mentioned on website (https://mitwpu.edu.in/examination). Send the screenshot of payment to exam.helpdesk@mitwpu.edu.in. , You will have to collect it from Department of Examination after 5 days of application with all required documents. , Course Completion Certificate , You must fill the student assistance form. (https://mitwpu.edu.in/images/documents/Student-Assistant-Form.pdf) and mail to exam.helpdesk@mitwpu.edu.in , The course completion certificate will be issued after minimum 5 working days from date of application. , The soft copy of the Certificate will be provided, only if required. You must collect the hard copy from Department of Examination within a week after it is ready.  , You should fill the student assistance form (https://mitwpu.edu.in/images/documents/Student-Assistant-Form.pdf) and mail to exam.helpdesk@mitwpu.edu.in , Processing of Bonafide certificate requires minimum 5 working days from date of application. , The soft copy of Bonafide certificate will be provided, only if required. You must collect the hard copy from Department of Examination within a week after it is ready. , You can apply for ‘Medium of Instruction’ Certificate..Fill student assistance form and mail to exam.helpdesk@mitwpu.edu.in. Student assistance form is available on the website.(https://mitwpu.edu.in/images/documents/Student-Assistant-Form.pdf) , Letter of ‘Medium of Instruction’ will be issued after minimum 5 working days from date of application. , Soft copy will be provided, if required. You must collect the hard copy from Department of Examination within a week after it is ready. , The Certificate for Equivalent Percentage is available on website (https://mitwpu.edu.in/images/documents/EQUIVALENT-PERCENTAGE-CONVERSION- , CERTIFICATE.pdf) Fill it correctly and neatly and mail it to exam.helpdesk@mitwpu.edu.in along with scan copy of recent trimester grade card. , Equivalent Percentage Certificate will be issued after minimum 5 working days from date of application. , Soft copy of Equivalent Percentage Certificate will be provided, if required. You must collect the hard copy from Department of Examination within a week after it is ready. , Trimester to Semester Conversion Certificate , Fill student assistance form and mail to exam.helpdesk@mitwpu.edu.in. along with required documents. Student assistance form is available on the website. (https://mitwpu.edu.in/images/documents/Student-Assistant-Form.pdf) , Documents required are scan copy of grade cards of the year for which conversion is required, student assistance form (https://mitwpu.edu.in/images/documents/Student- , Assistant-Form.pdf and receipt of payment done for conversion certificate.  , The processing charges for one trimester to semester conversion certificate are Rs.250/-  Do online payment. The payment details are mentioned on the website.(https://mitwpu.edu.in/examination/contact).Mail screenshot of payment to exam.helpdesk@mitwpu.edu.in , The processing of trimester to semester conversion certificate takes minimum 5 working days from date of application with all required documents. , You should collect the trimester to semester conversion certificate from Department of , Examination within a week after it is ready. , An official transcript is an authentic document that includes updated results of all trimesters declared till date of application and it is signed by the Controller of Examinations. , The documents required for applying for a transcript are scan copy of recent trimester grade card, application form for issuing of transcript which is available on the website (https://mitwpu.edu.in/images/documents/Application-for-Issue-of-Official-Transcript.pdf) and receipt of payment done for transcript processing. , Send screenshot of payment for transcript along with the application form (https://mitwpu.edu.in/images/documents/Application-for-Issue-of-Official-Transcript.pdf) and scan copy of recent trimester grade card to exam.helpdesk@mitwpu.edu.in. , The processing charges for transcript are Rs.200/- for one copy of transcript. If the transcript is to be sent on postal address then additional postal charges of Rs.100/- for each copy of transcript. , Do online payment for transcript. The payment details are mentioned on the website.(https://mitwpu.edu.in/examination/contact). Send the screenshot of payment to exam.helpdesk@mitwpu.edu.in , Processing of transcript takes minimum 5 working days from date of application with all required documents. , Soft copy of the transcript will be sent, only if required. You should collect the hard copy of the transcript from Department of Examination within 15 days, after it is ready. Bring your identity proof and payment receipt. If you have paid postal charges, then it will be sent by speed post at the address mentioned in application form. Transcripts are sent in a sealed envelope. (One Transcript per envelope) , This is done in order to assure the recipient of the document that the transcript is genuine. , Postal charges to Canada Rs.1600/-. Do payment online .Payment details mentioned on website.(https://mitwpu.edu.in/examination/contact). Send duly filled WES form and WES reference number and send screenshot of payment to exam.helpdesk@mitwpu.edu.in. , Send scan copies of marksheets of both years and screenshot of payment for transcript to exam.helpdesk@mitwpu.edu.in. The payment details mentioned on the website (https://mitwpu.edu.in/examination)  , Processing charges for MITSOB transcript differ batchwise. Send mail to exam.helpdesk@mitwpu.edu.in and mention your Batch and PR No. We will convey the charges accordingly , ...]  "
            ],
            "text/html": [
              "\n",
              "  <div id=\"df-e8096691-5fd2-4c0f-beb3-8c65c6b4d069\">\n",
              "    <div class=\"colab-df-container\">\n",
              "      <div>\n",
              "<style scoped>\n",
              "    .dataframe tbody tr th:only-of-type {\n",
              "        vertical-align: middle;\n",
              "    }\n",
              "\n",
              "    .dataframe tbody tr th {\n",
              "        vertical-align: top;\n",
              "    }\n",
              "\n",
              "    .dataframe thead th {\n",
              "        text-align: right;\n",
              "    }\n",
              "</style>\n",
              "<table border=\"1\" class=\"dataframe\">\n",
              "  <thead>\n",
              "    <tr style=\"text-align: right;\">\n",
              "      <th></th>\n",
              "      <th>title</th>\n",
              "      <th>paragraphs</th>\n",
              "    </tr>\n",
              "  </thead>\n",
              "  <tbody>\n",
              "    <tr>\n",
              "      <th>0</th>\n",
              "      <td>updated</td>\n",
              "      <td>[CGPA is seen on the grade card. The CGPA count can be verified by referring to the passing criteria mentioned in Exam Ordinance 2020 (https://mitwpu.edu.in/examination/images/documents/Examination_Ordinances_2020.pdf) , GPA and CGPA are not mentioned on backlog grade cards. GPA, CGPA will be highlighted on regular trimester grade card only. , CGPA.As a result, it is affecting my CGPA of next trimesters also. How do I get it corrected? , Grade card shows first attempt GPA and CGPA only. Hence, even if you have cleared backlog, improved CGPA for that trimester will not be seen on grade card. , Grade cards should be collected from the student section of your Department. If your grade card is not available at the student section then you must fill the student assistance form (https://mitwpu.edu.in/images/documents/Student-Assistant-Form.pdf) at Department of , Examination and get the remark from the student section on it and submit to Examination , Department. , Name correction on grade cards/PDC needs to be done in ERP at the office of student section of your Department. Kindly contact the office of student section for the making the required corrections in ERP. Moreover, student must check his/her personal details from time to time in their ERP login. , How can I get a new copy of corrected grade cards? , Once the required corrections are done in ERP, you can apply for corrected grade cards by filling and sending the student assistance form (https://mitwpu.edu.in/images/documents/Student-Assistant-Form.pdf) having verification remark from student section along with scan copies of grade cards and screenshot of grade card in ERP that reflects the required corrections to exam.helpdesk@mitwpu.edu.in. In the assistant form, clearly mention details of grade cards in which corrections are required (i.e. Trimester no., Regular/Backlog, Month &amp; Year). Submit the original grade cards at , Department for Examination. , From where should I collect the corrected grade cards/PDC? , You have to collect the corrected grade cards/PDC from Department of Examination. , Processing of correction on grade cards will take minimum 4 working days after you submit all the required documents at the Department of Examination.  , Yes, it is necessary to fill exam form for every end term exam. , Yes, it is necessary to fill exam form for internal backlog also. , You are required to submit an exam form. There is no connection between outstanding fees and an exam form. , After you fill and submit the exam form, you should download the PDF of your application which shows you the details of subjects you applied for, as well as, whether you have to appear for internal or external or both for the mentioned subjects. , It is mandatory to fill the exam form within the stipulated time only. Under any circumstances, you will not be allowed to fill exam form after the date for exam form filling is over. , No, Regular and Backlog fees have to be paid together. , Select Exam, Course Year and Click on Show. Submit the application and take printout of your exam application form. Submit the print along with complete exam fees (regular + backlog as applicable) to student section. Save the receipt. , Probable reasons 1) Student has not filled exam form. 2) Subject Mapping might not be done from , Institute. 3) Any other technical error. Contact Department of Examination for clarification. , Fill the student assistance form and pay fine at Exam Department. , Paste I-Card size photograph on hall ticket and get it duly attested from Department of , Examination. , Contact Examination Department for clarification. , Result related queries , This message occurs because your result is withheld due to non-submission of eligibility documents, outstanding fees, etc. You need to contact student section for further clarification. , Your result may be withheld for any administrative issue. Contact student section for clarification. , Your result will be seen in ERP only after a release order is received from the student section. , Mail your query to exam.helpdesk@mitwpu.edu.in and attach screenshot of result. , There is no rechecking/revaluation for online exams. , Mail your query details to exam.helpdesk@mitwpu.edu.in for knowing the external marks in the mentioned subject. For your internal marks, contact subject teacher. , Rechecking and Revaluation (Applicable for Offline End-Term Exams) , Pay the required fee at Department of Examination and fill student assistance form. , Photocopy will be made available within two days when revaluation dates are declared. , In student module, Click on University examination. Select application form and enter necessary information. Take printout of your application form and payment done and submit it to student section. , In student module, select University Examination, click on application, Mention exam type and exam. , Fees to be paid online in ERP. , Revaluation result will be declared after 12 Days from application of revaluation. , The amount must have been deducted against any other outstanding fee. Contact student section for clarification. , Either the student was absent for that particular subject or result is withheld from student section, hence subject shall not be seen in the revaluation list. , Contact student section for clarification , You don’t have to apply separately for a Provisional Degree Certificate. It will be issued after you have successfully completed your course. , From where and when should I collect the Provisional Degree Certificate? , Provisional Degree Certificate will be given from the student section after 15 days from date of declaration of your final trimester result. , Grade card is issued only once. In case, you have lost your grade card, you can apply for a duplicate grade card only. , How do I apply for a duplicate grade card? , You have to fill and submit application form for issuing of duplicate grade card which is available on the website (https://mitwpu.edu.in/images/documents/Application-for-Issue-of- , Duplicate-Grade-Card.pdf) along with the necessary documents mentioned in the form, in original, as well as the receipt of payment. , FIR copy, Affidavit on Rs.100/- stamp paper giving details and receipt of fee for duplicate grade card. , Fee of Rs.500/- + Rs. 100/- per trimester grade card. , You must pay online. Payment details are mentioned on website (https://mitwpu.edu.in/examination). Send the screenshot of payment to exam.helpdesk@mitwpu.edu.in. , You will have to collect it from Department of Examination after 15 days of application. , Once you have obtained a duplicate in place of a lost document, always use the duplicate document. If the original document is found, return it to WPU. Do not use the found original document after it has been replaced by a duplicate because of the following reasons: , 1) When a document is replaced by a duplicate, the original is marked as lost in the WPU database. The data of the duplicate document is entered into the database. 2) If a document that is marked as lost is sent to WPU for verification, it will be reported as lost and therefore not genuine. , Yes, you can apply for a consolidated grade card. , A consolidated grade card will show consolidated result of a trimester (Regular &amp; cleared backlog together). It shows revised GPA for that trimester. However, note that CGPA is not mentioned. , Consolidated grade card shows revised result of only one trimester with revised GPA whereas a transcript is a document that includes updated results of all trimesters with revised , GPA and CGPA trimester wise. , You have to fill and submit application form for issuing of consolidated grade card which is available on the website (https://mitwpu.edu.in/images/documents/Application-for- , Issue-of-Consolidated-Grade-Card.pdf) along with the necessary documents mentioned in the form and screenshot of payment to exam.helpdesk@mitwpu.edu.in , Application form for consolidated grade card, scan copy of regular and backlog grade cards of trimester for which consolidated grade card is required. , Processing fee for one consolidated grade card is Rs.200/- , You must pay online. Payment details are mentioned on website (https://mitwpu.edu.in/examination). Send the screenshot of payment to exam.helpdesk@mitwpu.edu.in. , You will have to collect it from Department of Examination after 5 days of application with all required documents. , Course Completion Certificate , You must fill the student assistance form. (https://mitwpu.edu.in/images/documents/Student-Assistant-Form.pdf) and mail to exam.helpdesk@mitwpu.edu.in , The course completion certificate will be issued after minimum 5 working days from date of application. , The soft copy of the Certificate will be provided, only if required. You must collect the hard copy from Department of Examination within a week after it is ready.  , You should fill the student assistance form (https://mitwpu.edu.in/images/documents/Student-Assistant-Form.pdf) and mail to exam.helpdesk@mitwpu.edu.in , Processing of Bonafide certificate requires minimum 5 working days from date of application. , The soft copy of Bonafide certificate will be provided, only if required. You must collect the hard copy from Department of Examination within a week after it is ready. , You can apply for ‘Medium of Instruction’ Certificate..Fill student assistance form and mail to exam.helpdesk@mitwpu.edu.in. Student assistance form is available on the website.(https://mitwpu.edu.in/images/documents/Student-Assistant-Form.pdf) , Letter of ‘Medium of Instruction’ will be issued after minimum 5 working days from date of application. , Soft copy will be provided, if required. You must collect the hard copy from Department of Examination within a week after it is ready. , The Certificate for Equivalent Percentage is available on website (https://mitwpu.edu.in/images/documents/EQUIVALENT-PERCENTAGE-CONVERSION- , CERTIFICATE.pdf) Fill it correctly and neatly and mail it to exam.helpdesk@mitwpu.edu.in along with scan copy of recent trimester grade card. , Equivalent Percentage Certificate will be issued after minimum 5 working days from date of application. , Soft copy of Equivalent Percentage Certificate will be provided, if required. You must collect the hard copy from Department of Examination within a week after it is ready. , Trimester to Semester Conversion Certificate , Fill student assistance form and mail to exam.helpdesk@mitwpu.edu.in. along with required documents. Student assistance form is available on the website. (https://mitwpu.edu.in/images/documents/Student-Assistant-Form.pdf) , Documents required are scan copy of grade cards of the year for which conversion is required, student assistance form (https://mitwpu.edu.in/images/documents/Student- , Assistant-Form.pdf and receipt of payment done for conversion certificate.  , The processing charges for one trimester to semester conversion certificate are Rs.250/-  Do online payment. The payment details are mentioned on the website.(https://mitwpu.edu.in/examination/contact).Mail screenshot of payment to exam.helpdesk@mitwpu.edu.in , The processing of trimester to semester conversion certificate takes minimum 5 working days from date of application with all required documents. , You should collect the trimester to semester conversion certificate from Department of , Examination within a week after it is ready. , An official transcript is an authentic document that includes updated results of all trimesters declared till date of application and it is signed by the Controller of Examinations. , The documents required for applying for a transcript are scan copy of recent trimester grade card, application form for issuing of transcript which is available on the website (https://mitwpu.edu.in/images/documents/Application-for-Issue-of-Official-Transcript.pdf) and receipt of payment done for transcript processing. , Send screenshot of payment for transcript along with the application form (https://mitwpu.edu.in/images/documents/Application-for-Issue-of-Official-Transcript.pdf) and scan copy of recent trimester grade card to exam.helpdesk@mitwpu.edu.in. , The processing charges for transcript are Rs.200/- for one copy of transcript. If the transcript is to be sent on postal address then additional postal charges of Rs.100/- for each copy of transcript. , Do online payment for transcript. The payment details are mentioned on the website.(https://mitwpu.edu.in/examination/contact). Send the screenshot of payment to exam.helpdesk@mitwpu.edu.in , Processing of transcript takes minimum 5 working days from date of application with all required documents. , Soft copy of the transcript will be sent, only if required. You should collect the hard copy of the transcript from Department of Examination within 15 days, after it is ready. Bring your identity proof and payment receipt. If you have paid postal charges, then it will be sent by speed post at the address mentioned in application form. Transcripts are sent in a sealed envelope. (One Transcript per envelope) , This is done in order to assure the recipient of the document that the transcript is genuine. , Postal charges to Canada Rs.1600/-. Do payment online .Payment details mentioned on website.(https://mitwpu.edu.in/examination/contact). Send duly filled WES form and WES reference number and send screenshot of payment to exam.helpdesk@mitwpu.edu.in. , Send scan copies of marksheets of both years and screenshot of payment for transcript to exam.helpdesk@mitwpu.edu.in. The payment details mentioned on the website (https://mitwpu.edu.in/examination)  , Processing charges for MITSOB transcript differ batchwise. Send mail to exam.helpdesk@mitwpu.edu.in and mention your Batch and PR No. We will convey the charges accordingly , ...]</td>\n",
              "    </tr>\n",
              "  </tbody>\n",
              "</table>\n",
              "</div>\n",
              "      <button class=\"colab-df-convert\" onclick=\"convertToInteractive('df-e8096691-5fd2-4c0f-beb3-8c65c6b4d069')\"\n",
              "              title=\"Convert this dataframe to an interactive table.\"\n",
              "              style=\"display:none;\">\n",
              "        \n",
              "  <svg xmlns=\"http://www.w3.org/2000/svg\" height=\"24px\"viewBox=\"0 0 24 24\"\n",
              "       width=\"24px\">\n",
              "    <path d=\"M0 0h24v24H0V0z\" fill=\"none\"/>\n",
              "    <path d=\"M18.56 5.44l.94 2.06.94-2.06 2.06-.94-2.06-.94-.94-2.06-.94 2.06-2.06.94zm-11 1L8.5 8.5l.94-2.06 2.06-.94-2.06-.94L8.5 2.5l-.94 2.06-2.06.94zm10 10l.94 2.06.94-2.06 2.06-.94-2.06-.94-.94-2.06-.94 2.06-2.06.94z\"/><path d=\"M17.41 7.96l-1.37-1.37c-.4-.4-.92-.59-1.43-.59-.52 0-1.04.2-1.43.59L10.3 9.45l-7.72 7.72c-.78.78-.78 2.05 0 2.83L4 21.41c.39.39.9.59 1.41.59.51 0 1.02-.2 1.41-.59l7.78-7.78 2.81-2.81c.8-.78.8-2.07 0-2.86zM5.41 20L4 18.59l7.72-7.72 1.47 1.35L5.41 20z\"/>\n",
              "  </svg>\n",
              "      </button>\n",
              "      \n",
              "  <style>\n",
              "    .colab-df-container {\n",
              "      display:flex;\n",
              "      flex-wrap:wrap;\n",
              "      gap: 12px;\n",
              "    }\n",
              "\n",
              "    .colab-df-convert {\n",
              "      background-color: #E8F0FE;\n",
              "      border: none;\n",
              "      border-radius: 50%;\n",
              "      cursor: pointer;\n",
              "      display: none;\n",
              "      fill: #1967D2;\n",
              "      height: 32px;\n",
              "      padding: 0 0 0 0;\n",
              "      width: 32px;\n",
              "    }\n",
              "\n",
              "    .colab-df-convert:hover {\n",
              "      background-color: #E2EBFA;\n",
              "      box-shadow: 0px 1px 2px rgba(60, 64, 67, 0.3), 0px 1px 3px 1px rgba(60, 64, 67, 0.15);\n",
              "      fill: #174EA6;\n",
              "    }\n",
              "\n",
              "    [theme=dark] .colab-df-convert {\n",
              "      background-color: #3B4455;\n",
              "      fill: #D2E3FC;\n",
              "    }\n",
              "\n",
              "    [theme=dark] .colab-df-convert:hover {\n",
              "      background-color: #434B5C;\n",
              "      box-shadow: 0px 1px 3px 1px rgba(0, 0, 0, 0.15);\n",
              "      filter: drop-shadow(0px 1px 2px rgba(0, 0, 0, 0.3));\n",
              "      fill: #FFFFFF;\n",
              "    }\n",
              "  </style>\n",
              "\n",
              "      <script>\n",
              "        const buttonEl =\n",
              "          document.querySelector('#df-e8096691-5fd2-4c0f-beb3-8c65c6b4d069 button.colab-df-convert');\n",
              "        buttonEl.style.display =\n",
              "          google.colab.kernel.accessAllowed ? 'block' : 'none';\n",
              "\n",
              "        async function convertToInteractive(key) {\n",
              "          const element = document.querySelector('#df-e8096691-5fd2-4c0f-beb3-8c65c6b4d069');\n",
              "          const dataTable =\n",
              "            await google.colab.kernel.invokeFunction('convertToInteractive',\n",
              "                                                     [key], {});\n",
              "          if (!dataTable) return;\n",
              "\n",
              "          const docLinkHtml = 'Like what you see? Visit the ' +\n",
              "            '<a target=\"_blank\" href=https://colab.research.google.com/notebooks/data_table.ipynb>data table notebook</a>'\n",
              "            + ' to learn more about interactive tables.';\n",
              "          element.innerHTML = '';\n",
              "          dataTable['output_type'] = 'display_data';\n",
              "          await google.colab.output.renderOutput(dataTable, element);\n",
              "          const docLink = document.createElement('div');\n",
              "          docLink.innerHTML = docLinkHtml;\n",
              "          element.appendChild(docLink);\n",
              "        }\n",
              "      </script>\n",
              "    </div>\n",
              "  </div>\n",
              "  "
            ]
          },
          "metadata": {},
          "execution_count": 16
        }
      ]
    },
    {
      "cell_type": "code",
      "source": [
        "pd.set_option('display.max_colwidth', -1)\n",
        "df.head()"
      ],
      "metadata": {
        "id": "KwqYT67Wsaw4",
        "colab": {
          "base_uri": "https://localhost:8080/",
          "height": 1000
        },
        "outputId": "fe7e3795-adc1-4872-bd7c-a26fc300d8f0"
      },
      "execution_count": null,
      "outputs": [
        {
          "output_type": "execute_result",
          "data": {
            "text/plain": [
              "     title  \\\n",
              "0  updated   \n",
              "\n",
              "                                                                                                                                                                                                                                                                                                                                                                                                                                                                                                                                                                                                                                                                                                                                                                                                                                                                                                                                                                                                                                                                                                                                                                                                                                                                                                                                                                                                                                                                                                                                                                                                                                                                                                                                                                                                                                                                                                                                                                                                                                                                                                                                                                                                                                                                                                                                                                                                                                                                                                                                                                                                                                                                                                                                                                                                                                                                                                                                                                                                                                                                                                                                                                                                                                                                                                                                                                                                                                                                                                                                                                                                                                                                                                                                                                                                                                                                                                                                                                                                                                                                                                                                                                                                                                                                                                                                                                                                                                                                                                                                                                                                                                                                                                                                                                                                                                                                                                                                                                                                                                                                                                                                                                                                                                                                                                                                                                                                                                                                                                                                                                                                                                                                                                                                                                                                                                                                                                                                                                                                                                                                                                                                                                                                                                                                                                                                                                                                                                                                                                                                                                                                                                                                                                                                                                                                                                                                                                                                                                                                                                                                                                                                                                                                                                                                                                                                                                                                                                                                                                                                                                                                                                                                                                                                                                                                                                                                                                                                                                                                                                                                                                                                                                                                                                                                                                                                                                                                                                                                                                                                                                                                                                                                                                                                                                                                                                                                                                                                                                                                                                                                                                                                                                                                                                                                                                                                                                                                                                                                                                                                                                                                                                                                                                                                                                                                                                                                                                                                                                                                                                                                                                                                                                                                                                                                                                                                                                                                                                                                                                                                                                                                                                                                                                                                                                                                                                                                                                                                                                                                                                                                                                                                                                                                                                                                                                                                                                                                                                                                                                                                                                                                                                                                                                                                                                                                                                                                                                                                                                                                                                                                                                                                                                                                                                                                                                                                                                                                                                                                                                                                                                                                                                                                                                                                                                                                                                                                                                                                                                                                                                                                                                                                                                                                                                                                                                                                                                                                                                                                                                                                                                                                                                                                                                                                                                                                                                                                                                                                                                                                                                                                                                                                                                                                                                                                                                                                                                                                        paragraphs  \n",
              "0  [CGPA is seen on the grade card. The CGPA count can be verified by referring to the passing criteria mentioned in Exam Ordinance 2020 (https://mitwpu.edu.in/examination/images/documents/Examination_Ordinances_2020.pdf) , GPA and CGPA are not mentioned on backlog grade cards. GPA, CGPA will be highlighted on regular trimester grade card only. , CGPA.As a result, it is affecting my CGPA of next trimesters also. How do I get it corrected? , Grade card shows first attempt GPA and CGPA only. Hence, even if you have cleared backlog, improved CGPA for that trimester will not be seen on grade card. , Grade cards should be collected from the student section of your Department. If your grade card is not available at the student section then you must fill the student assistance form (https://mitwpu.edu.in/images/documents/Student-Assistant-Form.pdf) at Department of , Examination and get the remark from the student section on it and submit to Examination , Department. , Name correction on grade cards/PDC needs to be done in ERP at the office of student section of your Department. Kindly contact the office of student section for the making the required corrections in ERP. Moreover, student must check his/her personal details from time to time in their ERP login. , How can I get a new copy of corrected grade cards? , Once the required corrections are done in ERP, you can apply for corrected grade cards by filling and sending the student assistance form (https://mitwpu.edu.in/images/documents/Student-Assistant-Form.pdf) having verification remark from student section along with scan copies of grade cards and screenshot of grade card in ERP that reflects the required corrections to exam.helpdesk@mitwpu.edu.in. In the assistant form, clearly mention details of grade cards in which corrections are required (i.e. Trimester no., Regular/Backlog, Month & Year). Submit the original grade cards at , Department for Examination. , From where should I collect the corrected grade cards/PDC? , You have to collect the corrected grade cards/PDC from Department of Examination. , Processing of correction on grade cards will take minimum 4 working days after you submit all the required documents at the Department of Examination.  , Yes, it is necessary to fill exam form for every end term exam. , Yes, it is necessary to fill exam form for internal backlog also. , You are required to submit an exam form. There is no connection between outstanding fees and an exam form. , After you fill and submit the exam form, you should download the PDF of your application which shows you the details of subjects you applied for, as well as, whether you have to appear for internal or external or both for the mentioned subjects. , It is mandatory to fill the exam form within the stipulated time only. Under any circumstances, you will not be allowed to fill exam form after the date for exam form filling is over. , No, Regular and Backlog fees have to be paid together. , Select Exam, Course Year and Click on Show. Submit the application and take printout of your exam application form. Submit the print along with complete exam fees (regular + backlog as applicable) to student section. Save the receipt. , Probable reasons 1) Student has not filled exam form. 2) Subject Mapping might not be done from , Institute. 3) Any other technical error. Contact Department of Examination for clarification. , Fill the student assistance form and pay fine at Exam Department. , Paste I-Card size photograph on hall ticket and get it duly attested from Department of , Examination. , Contact Examination Department for clarification. , Result related queries , This message occurs because your result is withheld due to non-submission of eligibility documents, outstanding fees, etc. You need to contact student section for further clarification. , Your result may be withheld for any administrative issue. Contact student section for clarification. , Your result will be seen in ERP only after a release order is received from the student section. , Mail your query to exam.helpdesk@mitwpu.edu.in and attach screenshot of result. , There is no rechecking/revaluation for online exams. , Mail your query details to exam.helpdesk@mitwpu.edu.in for knowing the external marks in the mentioned subject. For your internal marks, contact subject teacher. , Rechecking and Revaluation (Applicable for Offline End-Term Exams) , Pay the required fee at Department of Examination and fill student assistance form. , Photocopy will be made available within two days when revaluation dates are declared. , In student module, Click on University examination. Select application form and enter necessary information. Take printout of your application form and payment done and submit it to student section. , In student module, select University Examination, click on application, Mention exam type and exam. , Fees to be paid online in ERP. , Revaluation result will be declared after 12 Days from application of revaluation. , The amount must have been deducted against any other outstanding fee. Contact student section for clarification. , Either the student was absent for that particular subject or result is withheld from student section, hence subject shall not be seen in the revaluation list. , Contact student section for clarification , You don’t have to apply separately for a Provisional Degree Certificate. It will be issued after you have successfully completed your course. , From where and when should I collect the Provisional Degree Certificate? , Provisional Degree Certificate will be given from the student section after 15 days from date of declaration of your final trimester result. , Grade card is issued only once. In case, you have lost your grade card, you can apply for a duplicate grade card only. , How do I apply for a duplicate grade card? , You have to fill and submit application form for issuing of duplicate grade card which is available on the website (https://mitwpu.edu.in/images/documents/Application-for-Issue-of- , Duplicate-Grade-Card.pdf) along with the necessary documents mentioned in the form, in original, as well as the receipt of payment. , FIR copy, Affidavit on Rs.100/- stamp paper giving details and receipt of fee for duplicate grade card. , Fee of Rs.500/- + Rs. 100/- per trimester grade card. , You must pay online. Payment details are mentioned on website (https://mitwpu.edu.in/examination). Send the screenshot of payment to exam.helpdesk@mitwpu.edu.in. , You will have to collect it from Department of Examination after 15 days of application. , Once you have obtained a duplicate in place of a lost document, always use the duplicate document. If the original document is found, return it to WPU. Do not use the found original document after it has been replaced by a duplicate because of the following reasons: , 1) When a document is replaced by a duplicate, the original is marked as lost in the WPU database. The data of the duplicate document is entered into the database. 2) If a document that is marked as lost is sent to WPU for verification, it will be reported as lost and therefore not genuine. , Yes, you can apply for a consolidated grade card. , A consolidated grade card will show consolidated result of a trimester (Regular & cleared backlog together). It shows revised GPA for that trimester. However, note that CGPA is not mentioned. , Consolidated grade card shows revised result of only one trimester with revised GPA whereas a transcript is a document that includes updated results of all trimesters with revised , GPA and CGPA trimester wise. , You have to fill and submit application form for issuing of consolidated grade card which is available on the website (https://mitwpu.edu.in/images/documents/Application-for- , Issue-of-Consolidated-Grade-Card.pdf) along with the necessary documents mentioned in the form and screenshot of payment to exam.helpdesk@mitwpu.edu.in , Application form for consolidated grade card, scan copy of regular and backlog grade cards of trimester for which consolidated grade card is required. , Processing fee for one consolidated grade card is Rs.200/- , You must pay online. Payment details are mentioned on website (https://mitwpu.edu.in/examination). Send the screenshot of payment to exam.helpdesk@mitwpu.edu.in. , You will have to collect it from Department of Examination after 5 days of application with all required documents. , Course Completion Certificate , You must fill the student assistance form. (https://mitwpu.edu.in/images/documents/Student-Assistant-Form.pdf) and mail to exam.helpdesk@mitwpu.edu.in , The course completion certificate will be issued after minimum 5 working days from date of application. , The soft copy of the Certificate will be provided, only if required. You must collect the hard copy from Department of Examination within a week after it is ready.  , You should fill the student assistance form (https://mitwpu.edu.in/images/documents/Student-Assistant-Form.pdf) and mail to exam.helpdesk@mitwpu.edu.in , Processing of Bonafide certificate requires minimum 5 working days from date of application. , The soft copy of Bonafide certificate will be provided, only if required. You must collect the hard copy from Department of Examination within a week after it is ready. , You can apply for ‘Medium of Instruction’ Certificate..Fill student assistance form and mail to exam.helpdesk@mitwpu.edu.in. Student assistance form is available on the website.(https://mitwpu.edu.in/images/documents/Student-Assistant-Form.pdf) , Letter of ‘Medium of Instruction’ will be issued after minimum 5 working days from date of application. , Soft copy will be provided, if required. You must collect the hard copy from Department of Examination within a week after it is ready. , The Certificate for Equivalent Percentage is available on website (https://mitwpu.edu.in/images/documents/EQUIVALENT-PERCENTAGE-CONVERSION- , CERTIFICATE.pdf) Fill it correctly and neatly and mail it to exam.helpdesk@mitwpu.edu.in along with scan copy of recent trimester grade card. , Equivalent Percentage Certificate will be issued after minimum 5 working days from date of application. , Soft copy of Equivalent Percentage Certificate will be provided, if required. You must collect the hard copy from Department of Examination within a week after it is ready. , Trimester to Semester Conversion Certificate , Fill student assistance form and mail to exam.helpdesk@mitwpu.edu.in. along with required documents. Student assistance form is available on the website. (https://mitwpu.edu.in/images/documents/Student-Assistant-Form.pdf) , Documents required are scan copy of grade cards of the year for which conversion is required, student assistance form (https://mitwpu.edu.in/images/documents/Student- , Assistant-Form.pdf and receipt of payment done for conversion certificate.  , The processing charges for one trimester to semester conversion certificate are Rs.250/-  Do online payment. The payment details are mentioned on the website.(https://mitwpu.edu.in/examination/contact).Mail screenshot of payment to exam.helpdesk@mitwpu.edu.in , The processing of trimester to semester conversion certificate takes minimum 5 working days from date of application with all required documents. , You should collect the trimester to semester conversion certificate from Department of , Examination within a week after it is ready. , An official transcript is an authentic document that includes updated results of all trimesters declared till date of application and it is signed by the Controller of Examinations. , The documents required for applying for a transcript are scan copy of recent trimester grade card, application form for issuing of transcript which is available on the website (https://mitwpu.edu.in/images/documents/Application-for-Issue-of-Official-Transcript.pdf) and receipt of payment done for transcript processing. , Send screenshot of payment for transcript along with the application form (https://mitwpu.edu.in/images/documents/Application-for-Issue-of-Official-Transcript.pdf) and scan copy of recent trimester grade card to exam.helpdesk@mitwpu.edu.in. , The processing charges for transcript are Rs.200/- for one copy of transcript. If the transcript is to be sent on postal address then additional postal charges of Rs.100/- for each copy of transcript. , Do online payment for transcript. The payment details are mentioned on the website.(https://mitwpu.edu.in/examination/contact). Send the screenshot of payment to exam.helpdesk@mitwpu.edu.in , Processing of transcript takes minimum 5 working days from date of application with all required documents. , Soft copy of the transcript will be sent, only if required. You should collect the hard copy of the transcript from Department of Examination within 15 days, after it is ready. Bring your identity proof and payment receipt. If you have paid postal charges, then it will be sent by speed post at the address mentioned in application form. Transcripts are sent in a sealed envelope. (One Transcript per envelope) , This is done in order to assure the recipient of the document that the transcript is genuine. , Postal charges to Canada Rs.1600/-. Do payment online .Payment details mentioned on website.(https://mitwpu.edu.in/examination/contact). Send duly filled WES form and WES reference number and send screenshot of payment to exam.helpdesk@mitwpu.edu.in. , Send scan copies of marksheets of both years and screenshot of payment for transcript to exam.helpdesk@mitwpu.edu.in. The payment details mentioned on the website (https://mitwpu.edu.in/examination)  , Processing charges for MITSOB transcript differ batchwise. Send mail to exam.helpdesk@mitwpu.edu.in and mention your Batch and PR No. We will convey the charges accordingly , ...]  "
            ],
            "text/html": [
              "\n",
              "  <div id=\"df-29543f1c-7618-4f9a-936b-de7392d47f7f\">\n",
              "    <div class=\"colab-df-container\">\n",
              "      <div>\n",
              "<style scoped>\n",
              "    .dataframe tbody tr th:only-of-type {\n",
              "        vertical-align: middle;\n",
              "    }\n",
              "\n",
              "    .dataframe tbody tr th {\n",
              "        vertical-align: top;\n",
              "    }\n",
              "\n",
              "    .dataframe thead th {\n",
              "        text-align: right;\n",
              "    }\n",
              "</style>\n",
              "<table border=\"1\" class=\"dataframe\">\n",
              "  <thead>\n",
              "    <tr style=\"text-align: right;\">\n",
              "      <th></th>\n",
              "      <th>title</th>\n",
              "      <th>paragraphs</th>\n",
              "    </tr>\n",
              "  </thead>\n",
              "  <tbody>\n",
              "    <tr>\n",
              "      <th>0</th>\n",
              "      <td>updated</td>\n",
              "      <td>[CGPA is seen on the grade card. The CGPA count can be verified by referring to the passing criteria mentioned in Exam Ordinance 2020 (https://mitwpu.edu.in/examination/images/documents/Examination_Ordinances_2020.pdf) , GPA and CGPA are not mentioned on backlog grade cards. GPA, CGPA will be highlighted on regular trimester grade card only. , CGPA.As a result, it is affecting my CGPA of next trimesters also. How do I get it corrected? , Grade card shows first attempt GPA and CGPA only. Hence, even if you have cleared backlog, improved CGPA for that trimester will not be seen on grade card. , Grade cards should be collected from the student section of your Department. If your grade card is not available at the student section then you must fill the student assistance form (https://mitwpu.edu.in/images/documents/Student-Assistant-Form.pdf) at Department of , Examination and get the remark from the student section on it and submit to Examination , Department. , Name correction on grade cards/PDC needs to be done in ERP at the office of student section of your Department. Kindly contact the office of student section for the making the required corrections in ERP. Moreover, student must check his/her personal details from time to time in their ERP login. , How can I get a new copy of corrected grade cards? , Once the required corrections are done in ERP, you can apply for corrected grade cards by filling and sending the student assistance form (https://mitwpu.edu.in/images/documents/Student-Assistant-Form.pdf) having verification remark from student section along with scan copies of grade cards and screenshot of grade card in ERP that reflects the required corrections to exam.helpdesk@mitwpu.edu.in. In the assistant form, clearly mention details of grade cards in which corrections are required (i.e. Trimester no., Regular/Backlog, Month &amp; Year). Submit the original grade cards at , Department for Examination. , From where should I collect the corrected grade cards/PDC? , You have to collect the corrected grade cards/PDC from Department of Examination. , Processing of correction on grade cards will take minimum 4 working days after you submit all the required documents at the Department of Examination.  , Yes, it is necessary to fill exam form for every end term exam. , Yes, it is necessary to fill exam form for internal backlog also. , You are required to submit an exam form. There is no connection between outstanding fees and an exam form. , After you fill and submit the exam form, you should download the PDF of your application which shows you the details of subjects you applied for, as well as, whether you have to appear for internal or external or both for the mentioned subjects. , It is mandatory to fill the exam form within the stipulated time only. Under any circumstances, you will not be allowed to fill exam form after the date for exam form filling is over. , No, Regular and Backlog fees have to be paid together. , Select Exam, Course Year and Click on Show. Submit the application and take printout of your exam application form. Submit the print along with complete exam fees (regular + backlog as applicable) to student section. Save the receipt. , Probable reasons 1) Student has not filled exam form. 2) Subject Mapping might not be done from , Institute. 3) Any other technical error. Contact Department of Examination for clarification. , Fill the student assistance form and pay fine at Exam Department. , Paste I-Card size photograph on hall ticket and get it duly attested from Department of , Examination. , Contact Examination Department for clarification. , Result related queries , This message occurs because your result is withheld due to non-submission of eligibility documents, outstanding fees, etc. You need to contact student section for further clarification. , Your result may be withheld for any administrative issue. Contact student section for clarification. , Your result will be seen in ERP only after a release order is received from the student section. , Mail your query to exam.helpdesk@mitwpu.edu.in and attach screenshot of result. , There is no rechecking/revaluation for online exams. , Mail your query details to exam.helpdesk@mitwpu.edu.in for knowing the external marks in the mentioned subject. For your internal marks, contact subject teacher. , Rechecking and Revaluation (Applicable for Offline End-Term Exams) , Pay the required fee at Department of Examination and fill student assistance form. , Photocopy will be made available within two days when revaluation dates are declared. , In student module, Click on University examination. Select application form and enter necessary information. Take printout of your application form and payment done and submit it to student section. , In student module, select University Examination, click on application, Mention exam type and exam. , Fees to be paid online in ERP. , Revaluation result will be declared after 12 Days from application of revaluation. , The amount must have been deducted against any other outstanding fee. Contact student section for clarification. , Either the student was absent for that particular subject or result is withheld from student section, hence subject shall not be seen in the revaluation list. , Contact student section for clarification , You don’t have to apply separately for a Provisional Degree Certificate. It will be issued after you have successfully completed your course. , From where and when should I collect the Provisional Degree Certificate? , Provisional Degree Certificate will be given from the student section after 15 days from date of declaration of your final trimester result. , Grade card is issued only once. In case, you have lost your grade card, you can apply for a duplicate grade card only. , How do I apply for a duplicate grade card? , You have to fill and submit application form for issuing of duplicate grade card which is available on the website (https://mitwpu.edu.in/images/documents/Application-for-Issue-of- , Duplicate-Grade-Card.pdf) along with the necessary documents mentioned in the form, in original, as well as the receipt of payment. , FIR copy, Affidavit on Rs.100/- stamp paper giving details and receipt of fee for duplicate grade card. , Fee of Rs.500/- + Rs. 100/- per trimester grade card. , You must pay online. Payment details are mentioned on website (https://mitwpu.edu.in/examination). Send the screenshot of payment to exam.helpdesk@mitwpu.edu.in. , You will have to collect it from Department of Examination after 15 days of application. , Once you have obtained a duplicate in place of a lost document, always use the duplicate document. If the original document is found, return it to WPU. Do not use the found original document after it has been replaced by a duplicate because of the following reasons: , 1) When a document is replaced by a duplicate, the original is marked as lost in the WPU database. The data of the duplicate document is entered into the database. 2) If a document that is marked as lost is sent to WPU for verification, it will be reported as lost and therefore not genuine. , Yes, you can apply for a consolidated grade card. , A consolidated grade card will show consolidated result of a trimester (Regular &amp; cleared backlog together). It shows revised GPA for that trimester. However, note that CGPA is not mentioned. , Consolidated grade card shows revised result of only one trimester with revised GPA whereas a transcript is a document that includes updated results of all trimesters with revised , GPA and CGPA trimester wise. , You have to fill and submit application form for issuing of consolidated grade card which is available on the website (https://mitwpu.edu.in/images/documents/Application-for- , Issue-of-Consolidated-Grade-Card.pdf) along with the necessary documents mentioned in the form and screenshot of payment to exam.helpdesk@mitwpu.edu.in , Application form for consolidated grade card, scan copy of regular and backlog grade cards of trimester for which consolidated grade card is required. , Processing fee for one consolidated grade card is Rs.200/- , You must pay online. Payment details are mentioned on website (https://mitwpu.edu.in/examination). Send the screenshot of payment to exam.helpdesk@mitwpu.edu.in. , You will have to collect it from Department of Examination after 5 days of application with all required documents. , Course Completion Certificate , You must fill the student assistance form. (https://mitwpu.edu.in/images/documents/Student-Assistant-Form.pdf) and mail to exam.helpdesk@mitwpu.edu.in , The course completion certificate will be issued after minimum 5 working days from date of application. , The soft copy of the Certificate will be provided, only if required. You must collect the hard copy from Department of Examination within a week after it is ready.  , You should fill the student assistance form (https://mitwpu.edu.in/images/documents/Student-Assistant-Form.pdf) and mail to exam.helpdesk@mitwpu.edu.in , Processing of Bonafide certificate requires minimum 5 working days from date of application. , The soft copy of Bonafide certificate will be provided, only if required. You must collect the hard copy from Department of Examination within a week after it is ready. , You can apply for ‘Medium of Instruction’ Certificate..Fill student assistance form and mail to exam.helpdesk@mitwpu.edu.in. Student assistance form is available on the website.(https://mitwpu.edu.in/images/documents/Student-Assistant-Form.pdf) , Letter of ‘Medium of Instruction’ will be issued after minimum 5 working days from date of application. , Soft copy will be provided, if required. You must collect the hard copy from Department of Examination within a week after it is ready. , The Certificate for Equivalent Percentage is available on website (https://mitwpu.edu.in/images/documents/EQUIVALENT-PERCENTAGE-CONVERSION- , CERTIFICATE.pdf) Fill it correctly and neatly and mail it to exam.helpdesk@mitwpu.edu.in along with scan copy of recent trimester grade card. , Equivalent Percentage Certificate will be issued after minimum 5 working days from date of application. , Soft copy of Equivalent Percentage Certificate will be provided, if required. You must collect the hard copy from Department of Examination within a week after it is ready. , Trimester to Semester Conversion Certificate , Fill student assistance form and mail to exam.helpdesk@mitwpu.edu.in. along with required documents. Student assistance form is available on the website. (https://mitwpu.edu.in/images/documents/Student-Assistant-Form.pdf) , Documents required are scan copy of grade cards of the year for which conversion is required, student assistance form (https://mitwpu.edu.in/images/documents/Student- , Assistant-Form.pdf and receipt of payment done for conversion certificate.  , The processing charges for one trimester to semester conversion certificate are Rs.250/-  Do online payment. The payment details are mentioned on the website.(https://mitwpu.edu.in/examination/contact).Mail screenshot of payment to exam.helpdesk@mitwpu.edu.in , The processing of trimester to semester conversion certificate takes minimum 5 working days from date of application with all required documents. , You should collect the trimester to semester conversion certificate from Department of , Examination within a week after it is ready. , An official transcript is an authentic document that includes updated results of all trimesters declared till date of application and it is signed by the Controller of Examinations. , The documents required for applying for a transcript are scan copy of recent trimester grade card, application form for issuing of transcript which is available on the website (https://mitwpu.edu.in/images/documents/Application-for-Issue-of-Official-Transcript.pdf) and receipt of payment done for transcript processing. , Send screenshot of payment for transcript along with the application form (https://mitwpu.edu.in/images/documents/Application-for-Issue-of-Official-Transcript.pdf) and scan copy of recent trimester grade card to exam.helpdesk@mitwpu.edu.in. , The processing charges for transcript are Rs.200/- for one copy of transcript. If the transcript is to be sent on postal address then additional postal charges of Rs.100/- for each copy of transcript. , Do online payment for transcript. The payment details are mentioned on the website.(https://mitwpu.edu.in/examination/contact). Send the screenshot of payment to exam.helpdesk@mitwpu.edu.in , Processing of transcript takes minimum 5 working days from date of application with all required documents. , Soft copy of the transcript will be sent, only if required. You should collect the hard copy of the transcript from Department of Examination within 15 days, after it is ready. Bring your identity proof and payment receipt. If you have paid postal charges, then it will be sent by speed post at the address mentioned in application form. Transcripts are sent in a sealed envelope. (One Transcript per envelope) , This is done in order to assure the recipient of the document that the transcript is genuine. , Postal charges to Canada Rs.1600/-. Do payment online .Payment details mentioned on website.(https://mitwpu.edu.in/examination/contact). Send duly filled WES form and WES reference number and send screenshot of payment to exam.helpdesk@mitwpu.edu.in. , Send scan copies of marksheets of both years and screenshot of payment for transcript to exam.helpdesk@mitwpu.edu.in. The payment details mentioned on the website (https://mitwpu.edu.in/examination)  , Processing charges for MITSOB transcript differ batchwise. Send mail to exam.helpdesk@mitwpu.edu.in and mention your Batch and PR No. We will convey the charges accordingly , ...]</td>\n",
              "    </tr>\n",
              "  </tbody>\n",
              "</table>\n",
              "</div>\n",
              "      <button class=\"colab-df-convert\" onclick=\"convertToInteractive('df-29543f1c-7618-4f9a-936b-de7392d47f7f')\"\n",
              "              title=\"Convert this dataframe to an interactive table.\"\n",
              "              style=\"display:none;\">\n",
              "        \n",
              "  <svg xmlns=\"http://www.w3.org/2000/svg\" height=\"24px\"viewBox=\"0 0 24 24\"\n",
              "       width=\"24px\">\n",
              "    <path d=\"M0 0h24v24H0V0z\" fill=\"none\"/>\n",
              "    <path d=\"M18.56 5.44l.94 2.06.94-2.06 2.06-.94-2.06-.94-.94-2.06-.94 2.06-2.06.94zm-11 1L8.5 8.5l.94-2.06 2.06-.94-2.06-.94L8.5 2.5l-.94 2.06-2.06.94zm10 10l.94 2.06.94-2.06 2.06-.94-2.06-.94-.94-2.06-.94 2.06-2.06.94z\"/><path d=\"M17.41 7.96l-1.37-1.37c-.4-.4-.92-.59-1.43-.59-.52 0-1.04.2-1.43.59L10.3 9.45l-7.72 7.72c-.78.78-.78 2.05 0 2.83L4 21.41c.39.39.9.59 1.41.59.51 0 1.02-.2 1.41-.59l7.78-7.78 2.81-2.81c.8-.78.8-2.07 0-2.86zM5.41 20L4 18.59l7.72-7.72 1.47 1.35L5.41 20z\"/>\n",
              "  </svg>\n",
              "      </button>\n",
              "      \n",
              "  <style>\n",
              "    .colab-df-container {\n",
              "      display:flex;\n",
              "      flex-wrap:wrap;\n",
              "      gap: 12px;\n",
              "    }\n",
              "\n",
              "    .colab-df-convert {\n",
              "      background-color: #E8F0FE;\n",
              "      border: none;\n",
              "      border-radius: 50%;\n",
              "      cursor: pointer;\n",
              "      display: none;\n",
              "      fill: #1967D2;\n",
              "      height: 32px;\n",
              "      padding: 0 0 0 0;\n",
              "      width: 32px;\n",
              "    }\n",
              "\n",
              "    .colab-df-convert:hover {\n",
              "      background-color: #E2EBFA;\n",
              "      box-shadow: 0px 1px 2px rgba(60, 64, 67, 0.3), 0px 1px 3px 1px rgba(60, 64, 67, 0.15);\n",
              "      fill: #174EA6;\n",
              "    }\n",
              "\n",
              "    [theme=dark] .colab-df-convert {\n",
              "      background-color: #3B4455;\n",
              "      fill: #D2E3FC;\n",
              "    }\n",
              "\n",
              "    [theme=dark] .colab-df-convert:hover {\n",
              "      background-color: #434B5C;\n",
              "      box-shadow: 0px 1px 3px 1px rgba(0, 0, 0, 0.15);\n",
              "      filter: drop-shadow(0px 1px 2px rgba(0, 0, 0, 0.3));\n",
              "      fill: #FFFFFF;\n",
              "    }\n",
              "  </style>\n",
              "\n",
              "      <script>\n",
              "        const buttonEl =\n",
              "          document.querySelector('#df-29543f1c-7618-4f9a-936b-de7392d47f7f button.colab-df-convert');\n",
              "        buttonEl.style.display =\n",
              "          google.colab.kernel.accessAllowed ? 'block' : 'none';\n",
              "\n",
              "        async function convertToInteractive(key) {\n",
              "          const element = document.querySelector('#df-29543f1c-7618-4f9a-936b-de7392d47f7f');\n",
              "          const dataTable =\n",
              "            await google.colab.kernel.invokeFunction('convertToInteractive',\n",
              "                                                     [key], {});\n",
              "          if (!dataTable) return;\n",
              "\n",
              "          const docLinkHtml = 'Like what you see? Visit the ' +\n",
              "            '<a target=\"_blank\" href=https://colab.research.google.com/notebooks/data_table.ipynb>data table notebook</a>'\n",
              "            + ' to learn more about interactive tables.';\n",
              "          element.innerHTML = '';\n",
              "          dataTable['output_type'] = 'display_data';\n",
              "          await google.colab.output.renderOutput(dataTable, element);\n",
              "          const docLink = document.createElement('div');\n",
              "          docLink.innerHTML = docLinkHtml;\n",
              "          element.appendChild(docLink);\n",
              "        }\n",
              "      </script>\n",
              "    </div>\n",
              "  </div>\n",
              "  "
            ]
          },
          "metadata": {},
          "execution_count": 17
        }
      ]
    },
    {
      "cell_type": "code",
      "source": [
        "cdqa_pipeline = QAPipeline(reader = './models/bert_qa.joblib', max_df = 1.0)\n",
        "\n",
        "cdqa_pipeline.fit_retriever(df=df)"
      ],
      "metadata": {
        "id": "Z80VtQaosoDq",
        "colab": {
          "base_uri": "https://localhost:8080/"
        },
        "outputId": "0c935777-96e8-4df7-f44e-8c16238d92e7"
      },
      "execution_count": null,
      "outputs": [
        {
          "output_type": "execute_result",
          "data": {
            "text/plain": [
              "QAPipeline(reader=BertQA(adam_epsilon=1e-08, bert_model='bert-base-uncased',\n",
              "                         do_lower_case=True, fp16=False,\n",
              "                         gradient_accumulation_steps=1, learning_rate=5e-05,\n",
              "                         local_rank=-1, loss_scale=0, max_answer_length=30,\n",
              "                         n_best_size=20, no_cuda=False,\n",
              "                         null_score_diff_threshold=0.0, num_train_epochs=3.0,\n",
              "                         output_dir=None, predict_batch_size=8, seed=42,\n",
              "                         server_ip='', server_po..._size=8,\n",
              "                         verbose_logging=False, version_2_with_negative=False,\n",
              "                         warmup_proportion=0.1, warmup_steps=0),\n",
              "           retrieve_by_doc=False,\n",
              "           retriever=BM25Retriever(b=0.75, floor=None, k1=2.0, lowercase=True,\n",
              "                                   max_df=1.0, min_df=2, ngram_range=(1, 2),\n",
              "                                   preprocessor=None, stop_words='english',\n",
              "                                   token_pattern='(?u)\\\\b\\\\w\\\\w+\\\\b',\n",
              "                                   tokenizer=None, top_n=20, verbose=False,\n",
              "                                   vocabulary=None))"
            ]
          },
          "metadata": {},
          "execution_count": 18
        }
      ]
    },
    {
      "cell_type": "code",
      "source": [
        "query = 'how can i correct my personal information on my grade card'\n",
        "prediction = cdqa_pipeline.predict(query, 1)"
      ],
      "metadata": {
        "id": "OexgpCrLtGbs"
      },
      "execution_count": null,
      "outputs": []
    },
    {
      "cell_type": "code",
      "source": [
        "prediction"
      ],
      "metadata": {
        "id": "PMZ4W_uztXdT",
        "colab": {
          "base_uri": "https://localhost:8080/"
        },
        "outputId": "8193f8ed-6316-4ed5-82e4-ba7d31fc56fa"
      },
      "execution_count": null,
      "outputs": [
        {
          "output_type": "execute_result",
          "data": {
            "text/plain": [
              "[('by filling and sending the student assistance form',\n",
              "  'updated',\n",
              "  'Once the required corrections are done in ERP, you can apply for corrected grade cards by filling and sending the student assistance form (https://mitwpu.edu.in/images/documents/Student-Assistant-Form.pdf) having verification remark from student section along with scan copies of grade cards and screenshot of grade card in ERP that reflects the required corrections to exam.helpdesk@mitwpu.edu.in. In the assistant form, clearly mention details of grade cards in which corrections are required (i.e. Trimester no., Regular/Backlog, Month & Year). Submit the original grade cards at ',\n",
              "  7.676862358343459)]"
            ]
          },
          "metadata": {},
          "execution_count": 22
        }
      ]
    },
    {
      "cell_type": "code",
      "source": [
        "import joblib\n",
        "joblib.dump(cdqa_pipeline, './models/bert_qa_custom.joblib')"
      ],
      "metadata": {
        "id": "GkyvTXFX7N2_",
        "colab": {
          "base_uri": "https://localhost:8080/"
        },
        "outputId": "60274235-8e59-4625-8f5d-78f6797f036e"
      },
      "execution_count": null,
      "outputs": [
        {
          "output_type": "execute_result",
          "data": {
            "text/plain": [
              "['./models/bert_qa_custom.joblib']"
            ]
          },
          "metadata": {},
          "execution_count": 13
        }
      ]
    }
  ]
}